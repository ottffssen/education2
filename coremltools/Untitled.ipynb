{
 "cells": [
  {
   "cell_type": "code",
   "execution_count": 2,
   "metadata": {
    "collapsed": true
   },
   "outputs": [],
   "source": [
    "import coremltools"
   ]
  },
  {
   "cell_type": "code",
   "execution_count": 7,
   "metadata": {},
   "outputs": [
    {
     "name": "stdout",
     "output_type": "stream",
     "text": [
      "0 : input_1, <keras.engine.topology.InputLayer object at 0x118ef3450>\n",
      "1 : block1_conv1, <keras.layers.convolutional.Conv2D object at 0x104988090>\n",
      "2 : block1_conv1__activation__, <keras.layers.core.Activation object at 0x11e7b1c90>\n",
      "3 : block1_conv2, <keras.layers.convolutional.Conv2D object at 0x118ec8110>\n",
      "4 : block1_conv2__activation__, <keras.layers.core.Activation object at 0x11e7b1390>\n",
      "5 : block1_pool, <keras.layers.pooling.MaxPooling2D object at 0x1190566d0>\n",
      "6 : block2_conv1, <keras.layers.convolutional.Conv2D object at 0x118ef38d0>\n",
      "7 : block2_conv1__activation__, <keras.layers.core.Activation object at 0x11e792250>\n",
      "8 : block2_conv2, <keras.layers.convolutional.Conv2D object at 0x119069e90>\n",
      "9 : block2_conv2__activation__, <keras.layers.core.Activation object at 0x11e792e90>\n",
      "10 : block2_pool, <keras.layers.pooling.MaxPooling2D object at 0x1190899d0>\n",
      "11 : block3_conv1, <keras.layers.convolutional.Conv2D object at 0x1190b9a90>\n",
      "12 : block3_conv1__activation__, <keras.layers.core.Activation object at 0x11e7e0f90>\n",
      "13 : block3_conv2, <keras.layers.convolutional.Conv2D object at 0x119102590>\n",
      "14 : block3_conv2__activation__, <keras.layers.core.Activation object at 0x11e7e0250>\n",
      "15 : block3_conv3, <keras.layers.convolutional.Conv2D object at 0x119160f50>\n",
      "16 : block3_conv3__activation__, <keras.layers.core.Activation object at 0x11e83cf90>\n",
      "17 : block3_pool, <keras.layers.pooling.MaxPooling2D object at 0x11916eb10>\n",
      "18 : block4_conv1, <keras.layers.convolutional.Conv2D object at 0x1191f2ed0>\n",
      "19 : block4_conv1__activation__, <keras.layers.core.Activation object at 0x11e83c450>\n",
      "20 : block4_conv2, <keras.layers.convolutional.Conv2D object at 0x119187c90>\n",
      "21 : block4_conv2__activation__, <keras.layers.core.Activation object at 0x11e83c5d0>\n",
      "22 : block4_conv3, <keras.layers.convolutional.Conv2D object at 0x11921e750>\n",
      "23 : block4_conv3__activation__, <keras.layers.core.Activation object at 0x11e8e3b90>\n",
      "24 : block4_pool, <keras.layers.pooling.MaxPooling2D object at 0x11923f110>\n",
      "25 : block5_conv1, <keras.layers.convolutional.Conv2D object at 0x11926add0>\n",
      "26 : block5_conv1__activation__, <keras.layers.core.Activation object at 0x11e7f0150>\n",
      "27 : block5_conv2, <keras.layers.convolutional.Conv2D object at 0x1192c6750>\n",
      "28 : block5_conv2__activation__, <keras.layers.core.Activation object at 0x118ef3410>\n",
      "29 : block5_conv3, <keras.layers.convolutional.Conv2D object at 0x119298450>\n",
      "30 : block5_conv3__activation__, <keras.layers.core.Activation object at 0x11e81c0d0>\n",
      "31 : block5_pool, <keras.layers.pooling.MaxPooling2D object at 0x119311590>\n",
      "32 : flatten_1, <keras.layers.core.Flatten object at 0x119395bd0>\n",
      "33 : dense_1, <keras.layers.core.Dense object at 0x11932a450>\n",
      "34 : dense_1__activation__, <keras.layers.core.Activation object at 0x11e901210>\n",
      "35 : dense_2, <keras.layers.core.Dense object at 0x1193a71d0>\n",
      "36 : dense_2__activation__, <keras.layers.core.Activation object at 0x11edda890>\n"
     ]
    }
   ],
   "source": [
    "model_path = \"../classifier/results/vgg16-finetuning.h5\"\n",
    "coreml_model = coremltools.converters.keras.convert(\n",
    "    model_path,\n",
    "    input_names='image',\n",
    "    image_input_names='image',\n",
    "    class_labels='../class_labels.txt',\n",
    "    is_bgr=True,\n",
    "    image_scale=1./255\n",
    ")"
   ]
  },
  {
   "cell_type": "code",
   "execution_count": 8,
   "metadata": {
    "collapsed": true
   },
   "outputs": [],
   "source": [
    "coreml_model.save('./models/color_classifier.mlmodel')"
   ]
  },
  {
   "cell_type": "code",
   "execution_count": null,
   "metadata": {
    "collapsed": true
   },
   "outputs": [],
   "source": []
  }
 ],
 "metadata": {
  "kernelspec": {
   "display_name": "Python 2",
   "language": "python",
   "name": "python2"
  },
  "language_info": {
   "codemirror_mode": {
    "name": "ipython",
    "version": 2
   },
   "file_extension": ".py",
   "mimetype": "text/x-python",
   "name": "python",
   "nbconvert_exporter": "python",
   "pygments_lexer": "ipython2",
   "version": "2.7.13"
  }
 },
 "nbformat": 4,
 "nbformat_minor": 2
}
